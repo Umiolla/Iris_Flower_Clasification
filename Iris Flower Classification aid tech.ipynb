{
 "cells": [
  {
   "cell_type": "markdown",
   "id": "8f14438c",
   "metadata": {},
   "source": [
    "##### 1. Load the Iris dataset into your Python environment. You can use a library like Scikit-learn to load the dataset.\n",
    "##### 2. Pre-process the dataset by splitting it into training and testing sets. \n",
    "##### 3. Explore the dataset by visualizing the data using scatterplots or histograms. \n",
    "##### 4. Select a machine learning algorithm to train your model. You can start with a simple algorithm like K-Nearest Neighbours or Decision Trees. \n",
    "##### 5. Train your model using the training set. \n",
    "##### 6. Evaluate your model's performance on the testing set. \n",
    "##### 7 . Use your model to make predictions on new data.\n",
    "##### 8. Test your model by inputting new values for sepal length, sepal width, petal length, and petal width to see the predicted species of iris flower."
   ]
  },
  {
   "cell_type": "code",
   "execution_count": 2,
   "id": "7ebf7059",
   "metadata": {},
   "outputs": [],
   "source": [
    "%matplotlib inline\n",
    "import matplotlib.pyplot as plt\n",
    "import pandas as pd\n",
    "import numpy as np"
   ]
  },
  {
   "cell_type": "code",
   "execution_count": 3,
   "id": "eb60e350",
   "metadata": {},
   "outputs": [
    {
     "data": {
      "text/html": [
       "<div>\n",
       "<style scoped>\n",
       "    .dataframe tbody tr th:only-of-type {\n",
       "        vertical-align: middle;\n",
       "    }\n",
       "\n",
       "    .dataframe tbody tr th {\n",
       "        vertical-align: top;\n",
       "    }\n",
       "\n",
       "    .dataframe thead th {\n",
       "        text-align: right;\n",
       "    }\n",
       "</style>\n",
       "<table border=\"1\" class=\"dataframe\">\n",
       "  <thead>\n",
       "    <tr style=\"text-align: right;\">\n",
       "      <th></th>\n",
       "      <th>sepal_length</th>\n",
       "      <th>sepal_width</th>\n",
       "      <th>petal_length</th>\n",
       "      <th>petal_width</th>\n",
       "      <th>species</th>\n",
       "    </tr>\n",
       "  </thead>\n",
       "  <tbody>\n",
       "    <tr>\n",
       "      <th>0</th>\n",
       "      <td>5.1</td>\n",
       "      <td>3.5</td>\n",
       "      <td>1.4</td>\n",
       "      <td>0.2</td>\n",
       "      <td>Iris-setosa</td>\n",
       "    </tr>\n",
       "    <tr>\n",
       "      <th>1</th>\n",
       "      <td>4.9</td>\n",
       "      <td>3.0</td>\n",
       "      <td>1.4</td>\n",
       "      <td>0.2</td>\n",
       "      <td>Iris-setosa</td>\n",
       "    </tr>\n",
       "    <tr>\n",
       "      <th>2</th>\n",
       "      <td>4.7</td>\n",
       "      <td>3.2</td>\n",
       "      <td>1.3</td>\n",
       "      <td>0.2</td>\n",
       "      <td>Iris-setosa</td>\n",
       "    </tr>\n",
       "    <tr>\n",
       "      <th>3</th>\n",
       "      <td>4.6</td>\n",
       "      <td>3.1</td>\n",
       "      <td>1.5</td>\n",
       "      <td>0.2</td>\n",
       "      <td>Iris-setosa</td>\n",
       "    </tr>\n",
       "    <tr>\n",
       "      <th>4</th>\n",
       "      <td>5.0</td>\n",
       "      <td>3.6</td>\n",
       "      <td>1.4</td>\n",
       "      <td>0.2</td>\n",
       "      <td>Iris-setosa</td>\n",
       "    </tr>\n",
       "    <tr>\n",
       "      <th>...</th>\n",
       "      <td>...</td>\n",
       "      <td>...</td>\n",
       "      <td>...</td>\n",
       "      <td>...</td>\n",
       "      <td>...</td>\n",
       "    </tr>\n",
       "    <tr>\n",
       "      <th>145</th>\n",
       "      <td>6.7</td>\n",
       "      <td>3.0</td>\n",
       "      <td>5.2</td>\n",
       "      <td>2.3</td>\n",
       "      <td>Iris-virginica</td>\n",
       "    </tr>\n",
       "    <tr>\n",
       "      <th>146</th>\n",
       "      <td>6.3</td>\n",
       "      <td>2.5</td>\n",
       "      <td>5.0</td>\n",
       "      <td>1.9</td>\n",
       "      <td>Iris-virginica</td>\n",
       "    </tr>\n",
       "    <tr>\n",
       "      <th>147</th>\n",
       "      <td>6.5</td>\n",
       "      <td>3.0</td>\n",
       "      <td>5.2</td>\n",
       "      <td>2.0</td>\n",
       "      <td>Iris-virginica</td>\n",
       "    </tr>\n",
       "    <tr>\n",
       "      <th>148</th>\n",
       "      <td>6.2</td>\n",
       "      <td>3.4</td>\n",
       "      <td>5.4</td>\n",
       "      <td>2.3</td>\n",
       "      <td>Iris-virginica</td>\n",
       "    </tr>\n",
       "    <tr>\n",
       "      <th>149</th>\n",
       "      <td>5.9</td>\n",
       "      <td>3.0</td>\n",
       "      <td>5.1</td>\n",
       "      <td>1.8</td>\n",
       "      <td>Iris-virginica</td>\n",
       "    </tr>\n",
       "  </tbody>\n",
       "</table>\n",
       "<p>150 rows × 5 columns</p>\n",
       "</div>"
      ],
      "text/plain": [
       "     sepal_length  sepal_width  petal_length  petal_width         species\n",
       "0             5.1          3.5           1.4          0.2     Iris-setosa\n",
       "1             4.9          3.0           1.4          0.2     Iris-setosa\n",
       "2             4.7          3.2           1.3          0.2     Iris-setosa\n",
       "3             4.6          3.1           1.5          0.2     Iris-setosa\n",
       "4             5.0          3.6           1.4          0.2     Iris-setosa\n",
       "..            ...          ...           ...          ...             ...\n",
       "145           6.7          3.0           5.2          2.3  Iris-virginica\n",
       "146           6.3          2.5           5.0          1.9  Iris-virginica\n",
       "147           6.5          3.0           5.2          2.0  Iris-virginica\n",
       "148           6.2          3.4           5.4          2.3  Iris-virginica\n",
       "149           5.9          3.0           5.1          1.8  Iris-virginica\n",
       "\n",
       "[150 rows x 5 columns]"
      ]
     },
     "execution_count": 3,
     "metadata": {},
     "output_type": "execute_result"
    }
   ],
   "source": [
    "Irises = pd.read_csv(\"IRIS.csv\")\n",
    "Irises"
   ]
  },
  {
   "cell_type": "code",
   "execution_count": 106,
   "id": "ea18b9d6",
   "metadata": {},
   "outputs": [
    {
     "data": {
      "text/plain": [
       "0.8947368421052632"
      ]
     },
     "execution_count": 106,
     "metadata": {},
     "output_type": "execute_result"
    }
   ],
   "source": [
    "# #Import the Linear estimator class\n",
    "# from sklearn.svm import LinearSVC\n",
    "\n",
    "# #Setup random seed\n",
    "# np.random.seed(5)\n",
    "\n",
    "# #Make the data\n",
    "# X = Irises.drop(\"species\", axis=1)\n",
    "# y = Irises[\"species\"]\n",
    "# X = X.values\n",
    "\n",
    "# # Split the data\n",
    "# from sklearn.model_selection import train_test_split\n",
    "# X_train, X_test, y_train, y_test = train_test_split(X, y, test_size = 0.25)\n",
    "\n",
    "# #Instantiate LinearSVC\n",
    "# LSVC=LinearSVC(dual=False)\n",
    "# LSVC.fit(X_train, y_train)\n",
    "\n",
    "# #Evaluate the LinearSVC\n",
    "# LSVC.score(X_test, y_test)"
   ]
  },
  {
   "cell_type": "code",
   "execution_count": 107,
   "id": "bd85a3c7",
   "metadata": {},
   "outputs": [
    {
     "data": {
      "text/plain": [
       "0.9473684210526315"
      ]
     },
     "execution_count": 107,
     "metadata": {},
     "output_type": "execute_result"
    }
   ],
   "source": [
    "#Import the Random Forest Classifier estimator class\n",
    "from sklearn.ensemble import RandomForestClassifier\n",
    "\n",
    "#Setup random seed\n",
    "np.random.seed(5)\n",
    "\n",
    "#Make the data\n",
    "X = Irises.drop(\"species\", axis=1)\n",
    "y = Irises[\"species\"]\n",
    "X = X.values\n",
    "\n",
    "# Split the data\n",
    "from sklearn.model_selection import train_test_split\n",
    "X_train, X_test, y_train, y_test = train_test_split(X, y, test_size = 0.25)\n",
    "\n",
    "#Instantiate Random Forest Classifier\n",
    "RFC=RandomForestClassifier()\n",
    "RFC.fit(X_train, y_train)\n",
    "\n",
    "#Evaluate the Random Forest Classifier\n",
    "RFC.score(X_test, y_test)\n",
    "#This model is more accurate, so I'll go on with this one."
   ]
  },
  {
   "cell_type": "code",
   "execution_count": 108,
   "id": "8ca57df2",
   "metadata": {},
   "outputs": [
    {
     "data": {
      "text/plain": [
       "array(['Iris-versicolor', 'Iris-virginica', 'Iris-virginica',\n",
       "       'Iris-setosa', 'Iris-virginica', 'Iris-versicolor', 'Iris-setosa',\n",
       "       'Iris-virginica', 'Iris-setosa', 'Iris-versicolor',\n",
       "       'Iris-versicolor', 'Iris-versicolor', 'Iris-virginica',\n",
       "       'Iris-virginica', 'Iris-setosa', 'Iris-setosa', 'Iris-virginica',\n",
       "       'Iris-virginica', 'Iris-setosa', 'Iris-setosa', 'Iris-versicolor',\n",
       "       'Iris-virginica', 'Iris-setosa', 'Iris-versicolor',\n",
       "       'Iris-versicolor', 'Iris-virginica', 'Iris-versicolor',\n",
       "       'Iris-versicolor', 'Iris-versicolor', 'Iris-virginica',\n",
       "       'Iris-setosa', 'Iris-versicolor', 'Iris-versicolor', 'Iris-setosa',\n",
       "       'Iris-versicolor', 'Iris-setosa', 'Iris-setosa', 'Iris-virginica'],\n",
       "      dtype=object)"
      ]
     },
     "execution_count": 108,
     "metadata": {},
     "output_type": "execute_result"
    }
   ],
   "source": [
    "y_preds = RFC.predict(X_test)\n",
    "y_preds"
   ]
  },
  {
   "cell_type": "code",
   "execution_count": 109,
   "id": "12714b6c",
   "metadata": {},
   "outputs": [
    {
     "data": {
      "text/plain": [
       "82     Iris-versicolor\n",
       "134     Iris-virginica\n",
       "114     Iris-virginica\n",
       "42         Iris-setosa\n",
       "109     Iris-virginica\n",
       "57     Iris-versicolor\n",
       "1          Iris-setosa\n",
       "70     Iris-versicolor\n",
       "25         Iris-setosa\n",
       "84     Iris-versicolor\n",
       "66     Iris-versicolor\n",
       "133     Iris-virginica\n",
       "102     Iris-virginica\n",
       "107     Iris-virginica\n",
       "26         Iris-setosa\n",
       "23         Iris-setosa\n",
       "123     Iris-virginica\n",
       "130     Iris-virginica\n",
       "21         Iris-setosa\n",
       "12         Iris-setosa\n",
       "71     Iris-versicolor\n",
       "128     Iris-virginica\n",
       "48         Iris-setosa\n",
       "72     Iris-versicolor\n",
       "88     Iris-versicolor\n",
       "148     Iris-virginica\n",
       "74     Iris-versicolor\n",
       "96     Iris-versicolor\n",
       "63     Iris-versicolor\n",
       "132     Iris-virginica\n",
       "39         Iris-setosa\n",
       "53     Iris-versicolor\n",
       "79     Iris-versicolor\n",
       "10         Iris-setosa\n",
       "50     Iris-versicolor\n",
       "49         Iris-setosa\n",
       "43         Iris-setosa\n",
       "135     Iris-virginica\n",
       "Name: species, dtype: object"
      ]
     },
     "execution_count": 109,
     "metadata": {},
     "output_type": "execute_result"
    }
   ],
   "source": [
    "y_test"
   ]
  },
  {
   "cell_type": "code",
   "execution_count": 110,
   "id": "a1783f5e",
   "metadata": {},
   "outputs": [
    {
     "name": "stdout",
     "output_type": "stream",
     "text": [
      "                 precision    recall  f1-score   support\n",
      "\n",
      "    Iris-setosa       1.00      1.00      1.00        12\n",
      "Iris-versicolor       0.93      0.93      0.93        14\n",
      " Iris-virginica       0.92      0.92      0.92        12\n",
      "\n",
      "       accuracy                           0.95        38\n",
      "      macro avg       0.95      0.95      0.95        38\n",
      "   weighted avg       0.95      0.95      0.95        38\n",
      "\n"
     ]
    }
   ],
   "source": [
    "from sklearn.metrics import classification_report, confusion_matrix, accuracy_score\n",
    "\n",
    "print(classification_report(y_test, y_preds))"
   ]
  },
  {
   "cell_type": "markdown",
   "id": "12e81bcc",
   "metadata": {},
   "source": [
    "## Visualization"
   ]
  },
  {
   "cell_type": "code",
   "execution_count": 111,
   "id": "c09e8432",
   "metadata": {},
   "outputs": [
    {
     "data": {
      "image/png": "[encoded data removed]",
      "text/plain": [
       "<Figure size 1000x500 with 4 Axes>"
      ]
     },
     "metadata": {},
     "output_type": "display_data"
    }
   ],
   "source": [
    "fig, ax = plt.subplots(nrows = 2,\n",
    "                      ncols =2,\n",
    "                      figsize = (10, 5))\n",
    "ax[0, 0].scatter(Irises.sepal_width, Irises.species)\n",
    "ax[0, 1].scatter( Irises.sepal_length, Irises.species)\n",
    "ax[1, 0].scatter( Irises.petal_width, Irises.species)\n",
    "ax[1, 1].scatter( Irises.petal_length, Irises.species);\n",
    "ax[0, 0].title.set_text('sepal_width')\n",
    "ax[0, 1].title.set_text('sepal_length')\n",
    "ax[1, 0].title.set_text('petal_width')\n",
    "ax[1, 1].title.set_text('petal_length')\n",
    "plt.tight_layout()"
   ]
  },
  {
   "cell_type": "markdown",
   "id": "4a3301b4",
   "metadata": {},
   "source": [
    "## Testing on the new data"
   ]
  },
  {
   "cell_type": "code",
   "execution_count": 124,
   "id": "ac532598",
   "metadata": {},
   "outputs": [],
   "source": [
    "sepal_width = 4.1\n",
    "sepal_length = 4.6\n",
    "petal_width = 0.2\n",
    "petal_length = 1.4\n",
    "\n",
    "new_data=[[sepal_width, sepal_length, petal_width, petal_length]]"
   ]
  },
  {
   "cell_type": "code",
   "execution_count": 125,
   "id": "9d6c15c3",
   "metadata": {},
   "outputs": [
    {
     "data": {
      "text/plain": [
       "array(['Iris-setosa'], dtype=object)"
      ]
     },
     "execution_count": 125,
     "metadata": {},
     "output_type": "execute_result"
    }
   ],
   "source": [
    "#Predict the response for test dataset \n",
    "y_pred = RFC.predict(new_data)\n",
    "y_pred"
   ]
  },
  {
   "cell_type": "code",
   "execution_count": 126,
   "id": "b7fdf9f5",
   "metadata": {},
   "outputs": [
    {
     "data": {
      "text/plain": [
       "array(['Iris-setosa'], dtype=object)"
      ]
     },
     "execution_count": 126,
     "metadata": {},
     "output_type": "execute_result"
    }
   ],
   "source": [
    "# #Predict the response for test dataset\n",
    "# y_pred = LSVC.predict(new_data)\n",
    "# y_pred"
   ]
  },
  {
   "cell_type": "code",
   "execution_count": null,
   "id": "f4bd5113",
   "metadata": {},
   "outputs": [],
   "source": []
  }
 ],
 "metadata": {
  "kernelspec": {
   "display_name": "Python 3 (ipykernel)",
   "language": "python",
   "name": "python3"
  },
  "language_info": {
   "codemirror_mode": {
    "name": "ipython",
    "version": 3
   },
   "file_extension": ".py",
   "mimetype": "text/x-python",
   "name": "python",
   "nbconvert_exporter": "python",
   "pygments_lexer": "ipython3",
   "version": "3.11.4"
  }
 },
 "nbformat": 4,
 "nbformat_minor": 5
}
